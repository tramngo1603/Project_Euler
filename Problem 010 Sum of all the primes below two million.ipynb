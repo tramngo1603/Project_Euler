{
 "cells": [
  {
   "cell_type": "markdown",
   "metadata": {},
   "source": [
    "##### The sum of the primes below 10 is 2 + 3 + 5 + 7 = 17.\n",
    "\n",
    "### Find the sum of all the primes below two million."
   ]
  },
  {
   "cell_type": "code",
   "execution_count": 3,
   "metadata": {},
   "outputs": [],
   "source": [
    "def check_prime(x):\n",
    "    for k in range (2,int(x/2)):\n",
    "        if x%k == 0: \n",
    "            return False\n",
    "            \n",
    "        else: continue\n",
    "            \n",
    "    return True\n",
    "\n",
    "\n",
    "def sum_func():\n",
    "    \n",
    "    total_sum = 0\n",
    "    \n",
    "    for x in range(2000000):\n",
    "        \n",
    "        if check_prime(x) is True: \n",
    "            total_sum += x\n",
    "            \n",
    "    return total_sum"
   ]
  },
  {
   "cell_type": "code",
   "execution_count": null,
   "metadata": {},
   "outputs": [],
   "source": [
    "sum_func()"
   ]
  },
  {
   "cell_type": "code",
   "execution_count": null,
   "metadata": {},
   "outputs": [],
   "source": []
  }
 ],
 "metadata": {
  "kernelspec": {
   "display_name": "Python 3",
   "language": "python",
   "name": "python3"
  },
  "language_info": {
   "codemirror_mode": {
    "name": "ipython",
    "version": 3
   },
   "file_extension": ".py",
   "mimetype": "text/x-python",
   "name": "python",
   "nbconvert_exporter": "python",
   "pygments_lexer": "ipython3",
   "version": "3.7.0"
  }
 },
 "nbformat": 4,
 "nbformat_minor": 2
}
