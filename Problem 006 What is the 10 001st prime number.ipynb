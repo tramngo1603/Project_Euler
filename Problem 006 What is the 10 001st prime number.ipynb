{
 "cells": [
  {
   "cell_type": "markdown",
   "metadata": {},
   "source": [
    "By listing the first six prime numbers: 2, 3, 5, 7, 11, and 13, we can see that the 6th prime is 13.\n",
    "\n",
    "### What is the 10 001st prime number?"
   ]
  },
  {
   "cell_type": "code",
   "execution_count": null,
   "metadata": {},
   "outputs": [],
   "source": [
    "def find_prime():\n",
    "    prime_list = [2,3]\n",
    "    \n",
    "    for x in range(1000):\n",
    "        \n",
    "        if check_prime(x) is True: \n",
    "            prime_list = prime_list.append(x)\n",
    "           \n",
    "            \n",
    "    return prime_list[10002]\n",
    "        \n",
    "\n",
    "def check_prime(x):\n",
    "    for k in range (2,int(x/2)):\n",
    "        if x%k == 0: \n",
    "            return False\n",
    "            \n",
    "        else: continue\n",
    "    return True\n",
    "\n"
   ]
  },
  {
   "cell_type": "code",
   "execution_count": null,
   "metadata": {},
   "outputs": [],
   "source": [
    "print(find_prime())"
   ]
  },
  {
   "cell_type": "code",
   "execution_count": null,
   "metadata": {},
   "outputs": [],
   "source": []
  }
 ],
 "metadata": {
  "kernelspec": {
   "display_name": "Python 3",
   "language": "python",
   "name": "python3"
  },
  "language_info": {
   "codemirror_mode": {
    "name": "ipython",
    "version": 3
   },
   "file_extension": ".py",
   "mimetype": "text/x-python",
   "name": "python",
   "nbconvert_exporter": "python",
   "pygments_lexer": "ipython3",
   "version": "3.7.0"
  }
 },
 "nbformat": 4,
 "nbformat_minor": 2
}
