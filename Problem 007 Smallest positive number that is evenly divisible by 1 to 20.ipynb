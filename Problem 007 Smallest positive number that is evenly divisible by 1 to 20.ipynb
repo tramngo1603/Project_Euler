{
 "cells": [
  {
   "cell_type": "markdown",
   "metadata": {},
   "source": [
    "## What is the smallest positive number that is evenly divisible by all of the numbers from 1 to 20?\n",
    "\n",
    "#### 2520 is the smallest number that can be divided by each of the numbers from 1 to 10 without any remainder.\n"
   ]
  },
  {
   "cell_type": "code",
   "execution_count": 35,
   "metadata": {},
   "outputs": [
    {
     "name": "stdout",
     "output_type": "stream",
     "text": [
      "232792560\n"
     ]
    }
   ],
   "source": [
    "        \n",
    "\n",
    "# Find LCM <-- Find GCD\n",
    "# Function to find GCD\n",
    "# LCM = (a*b)/GCD (a,b)\n",
    "\n",
    "import math \n",
    "    \n",
    "\n",
    "def gcd(a,b): \n",
    "    return math.gcd(a,b)\n",
    "\n",
    "def lcm (a,b):\n",
    "    return int((a*b)/gcd(a,b))\n",
    "    \n",
    "initial_val = lcm(4,12)\n",
    "\n",
    "for i in range (4,21): \n",
    "    initial_val = lcm (initial_val,i)\n",
    "print(initial_val)\n",
    "\n",
    "#for i in range(4,21): \n",
    " #   print (initial_val/i)"
   ]
  },
  {
   "cell_type": "code",
   "execution_count": 36,
   "metadata": {},
   "outputs": [
    {
     "name": "stdout",
     "output_type": "stream",
     "text": [
      "232792560\n"
     ]
    }
   ],
   "source": [
    "import math \n",
    "    \n",
    "\n",
    "def gcd(a,b): \n",
    "    return math.gcd(a,b)\n",
    "\n",
    "def lcm (a,b):\n",
    "    return int((a*b)/gcd(a,b))\n",
    "    \n",
    "initial_val = lcm(11,12)\n",
    "\n",
    "for i in range (11,21): \n",
    "    initial_val = lcm (initial_val,i)\n",
    "print(initial_val)\n",
    "\n",
    "#for i in range(4,21): \n",
    " #   print (initial_val/i)"
   ]
  },
  {
   "cell_type": "code",
   "execution_count": null,
   "metadata": {},
   "outputs": [],
   "source": []
  }
 ],
 "metadata": {
  "kernelspec": {
   "display_name": "Python 3",
   "language": "python",
   "name": "python3"
  },
  "language_info": {
   "codemirror_mode": {
    "name": "ipython",
    "version": 3
   },
   "file_extension": ".py",
   "mimetype": "text/x-python",
   "name": "python",
   "nbconvert_exporter": "python",
   "pygments_lexer": "ipython3",
   "version": "3.7.0"
  }
 },
 "nbformat": 4,
 "nbformat_minor": 2
}
